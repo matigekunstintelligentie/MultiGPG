{
 "cells": [
  {
   "cell_type": "code",
   "execution_count": 27,
   "id": "a5919baf-7e65-429a-8a97-d3eacfb7aef4",
   "metadata": {},
   "outputs": [
    {
     "name": "stderr",
     "output_type": "stream",
     "text": [
      "/tmp/ipykernel_1130355/160624306.py:7: MatplotlibDeprecationWarning: The seaborn styles shipped by Matplotlib are deprecated since 3.6, as they no longer correspond to the styles shipped by seaborn. However, they will remain available as 'seaborn-v0_8-<style>'. Alternatively, directly use the seaborn API instead.\n",
      "  plt.style.use('seaborn')\n"
     ]
    }
   ],
   "source": [
    "import pandas as pd\n",
    "import glob\n",
    "import re\n",
    "from collections import Counter\n",
    "import matplotlib.pyplot as plt\n",
    "import numpy as np\n",
    "plt.style.use('seaborn')\n",
    "\n",
    "def count_duplicates_in_list(lst):\n",
    "    # Count occurrences of each element in the list\n",
    "    element_counts = Counter(lst)\n",
    "    \n",
    "    # Count number of elements that occur more than once\n",
    "    duplicates_count = sum(1 for count in element_counts.values() if count > 1)\n",
    "    \n",
    "    return duplicates_count"
   ]
  },
  {
   "cell_type": "code",
   "execution_count": 28,
   "id": "13f54670",
   "metadata": {},
   "outputs": [],
   "source": [
    "translation = {\"x_0\":\"Season\",\n",
    "               \"x_1\":\"Year\",\n",
    "               \"x_2\": \"Month\",\n",
    "               \"x_3\": \"Holiday\",\n",
    "               \"x_4\": \"Weekday\", \n",
    "               \"x_5\": \"Working day\",\n",
    "               \"x_6\": \"Weather Situation\",\n",
    "               \"x_7\": \"Temperature\",\n",
    "               \"x_8\": \"Feeling Temperature\",\n",
    "               \"x_9\": \"Humidity\",\n",
    "               \"x_10\": \"Windspeed\"}\n",
    "\n",
    "def replace_translation(stri, d, reverse):\n",
    "\n",
    "    for k in sorted(d.keys(), reverse=reverse):\n",
    "        stri = stri.replace(str(k), str(d[k]))\n",
    "    return stri"
   ]
  },
  {
   "cell_type": "code",
   "execution_count": 29,
   "id": "9fea705d-fde0-413c-8cbd-28ab4c243488",
   "metadata": {},
   "outputs": [],
   "source": [
    "dataset = \"bike\"\n",
    "\n",
    "def extract_substrings(text):\n",
    "    return re.findall(r'func\\[(.*?)\\]', text)\n",
    "\n",
    "functions = []\n",
    "for filename in glob.glob(\"./results/MOSO/*_SO_bike.csv\"):\n",
    "    nr = filename.split(\"/\")[-1].split(\"_\")[0]\n",
    "    d_key = \"_\".join(filename.split(\"/\")[-1].split(\"_\")[1:]).replace(dataset,\"\").replace(\".csv\",\"\")\n",
    "    df = pd.read_csv(filename, sep=\"\\t\", header=None)\n",
    "    \n",
    "    \n",
    "    substrings = extract_substrings(df.iloc[0][5])\n",
    "    if (count_duplicates_in_list(substrings)>0):\n",
    "        print(substrings[0])\n",
    "        functions.append(replace_translation(substrings[0], translation, True))\n",
    "        \n",
    "    \n",
    "    \n"
   ]
  },
  {
   "cell_type": "code",
   "execution_count": 30,
   "id": "e91c17e9-7343-440a-9c77-4bb4b409696c",
   "metadata": {},
   "outputs": [],
   "source": [
    "instance = {\"Season\":1,\n",
    "\"Year\":0,\n",
    "\"Month\":1,\n",
    "\"Holiday\":0,\n",
    "\"Weekday\":6,\n",
    "\"Working day\":0,\n",
    "\"Weather Situation\":\"x\",\n",
    "\"Temperature\":0.34,\n",
    "\"Feeling Temperature\":0.36,\n",
    "\"Humidity\": 0.8,\n",
    "\"Windspeed\":0.16}\n",
    "\n",
    "functional = {\n",
    "    \"sin\":\"np.sin\",\n",
    "    \"sqrt\":\"np.sqrt\",\n",
    "    \"cos\":\"np.cos\",\n",
    "    \"ln\":\"np.log\",\n",
    "    \"func[(\": \"\",\n",
    "    \")]\": \"\"\n",
    "}"
   ]
  },
  {
   "cell_type": "code",
   "execution_count": 31,
   "id": "a04d595b-836a-487c-8d56-8862f148b97c",
   "metadata": {},
   "outputs": [
    {
     "ename": "IndexError",
     "evalue": "list index out of range",
     "output_type": "error",
     "traceback": [
      "\u001b[0;31m---------------------------------------------------------------------------\u001b[0m",
      "\u001b[0;31mIndexError\u001b[0m                                Traceback (most recent call last)",
      "Cell \u001b[0;32mIn[31], line 1\u001b[0m\n\u001b[0;32m----> 1\u001b[0m \u001b[38;5;28mprint\u001b[39m(\u001b[43mfunctions\u001b[49m\u001b[43m[\u001b[49m\u001b[38;5;241;43m2\u001b[39;49m\u001b[43m]\u001b[49m)\n\u001b[1;32m      2\u001b[0m function \u001b[38;5;241m=\u001b[39m replace_translation(functions[\u001b[38;5;241m2\u001b[39m], instance, \u001b[38;5;28;01mFalse\u001b[39;00m)\n\u001b[1;32m      3\u001b[0m function \u001b[38;5;241m=\u001b[39m replace_translation(function, functional, \u001b[38;5;28;01mFalse\u001b[39;00m)\n",
      "\u001b[0;31mIndexError\u001b[0m: list index out of range"
     ]
    }
   ],
   "source": [
    "print(functions[2])\n",
    "function = replace_translation(functions[2], instance, False)\n",
    "function = replace_translation(function, functional, False)"
   ]
  },
  {
   "cell_type": "code",
   "execution_count": 32,
   "id": "2ce7ed68",
   "metadata": {},
   "outputs": [
    {
     "ename": "SyntaxError",
     "evalue": "unexpected EOF while parsing (<string>, line 1)",
     "output_type": "error",
     "traceback": [
      "Traceback \u001b[0;36m(most recent call last)\u001b[0m:\n",
      "\u001b[0m  File \u001b[1;32m~/anaconda3/lib/python3.9/site-packages/IPython/core/interactiveshell.py:3460\u001b[0m in \u001b[1;35mrun_code\u001b[0m\n    exec(code_obj, self.user_global_ns, self.user_ns)\u001b[0m\n",
      "\u001b[0m  Cell \u001b[1;32mIn[32], line 3\u001b[0m\n    y = func(x)\u001b[0m\n",
      "\u001b[0;36m  Cell \u001b[0;32mIn[32], line 1\u001b[0;36m in \u001b[0;35m<lambda>\u001b[0;36m\n\u001b[0;31m    func = lambda x: eval(function)\u001b[0;36m\n",
      "\u001b[0;36m  File \u001b[0;32m<string>:1\u001b[0;36m\u001b[0m\n\u001b[0;31m    (((((0*0.801548302)-(2/7.475599289))-np.cos((-4.854018211*x)))+(np.sin((0.8-4.666962624))+np.sin(np.sin(2))))\u001b[0m\n\u001b[0m                                                                                                                ^\u001b[0m\n\u001b[0;31mSyntaxError\u001b[0m\u001b[0;31m:\u001b[0m unexpected EOF while parsing\n"
     ]
    }
   ],
   "source": [
    "func = lambda x: eval(function)\n",
    "x = np.linspace(0,4,100)\n",
    "y = func(x)\n",
    "plt.figure()\n",
    "plt.xlabel(\"Weather Situation\")\n",
    "xtick_locations = [1,2,3,4]\n",
    "xtick_labels = [\"Clear Skies\", \"Misty\", \"Rain\", \"Heavy Rain\"]\n",
    "plt.xticks(xtick_locations, xtick_labels)\n",
    "plt.ylabel(\"Function value\")\n",
    "plt.plot(x,y)\n",
    "plt.show()"
   ]
  },
  {
   "cell_type": "code",
   "execution_count": 33,
   "id": "c25bdf39",
   "metadata": {},
   "outputs": [
    {
     "name": "stdout",
     "output_type": "stream",
     "text": [
      "((sin((x_7*2.487035275))-(sin(x_6)/(-8.329465866+4.498615265)))-(((x_10+x_10)-(x_9/2.063561201))/sqrt((4.981196404/x_10))))\n",
      "\n",
      "(func[(sin(((x_9-x_3)+(x_6-0.360522866)))+(ln(sqrt(x_2))-((-0.768530607/x_0)*(-0.194104627*x_2))))\n",
      "\n",
      "((func[((((x_1*0.801548302)-(x_6/7.475599289))-cos((-4.854018211*x_7)))+(sin((x_9-4.666962624))+sin(sin(x_6))))\n",
      "\n",
      "(cos(func[((sqrt(x_0)/sqrt(sqrt(82.295372009)))+(x_1-((x_10*x_6)-(-1.663953066-x_9))))\n",
      "\n",
      "sin((sin(x_7)*sqrt((x_0--4.987145901))))\n",
      "\n",
      "(x_10*cos(((x_6/-0.572346926)*(x_9*x_9))))\n",
      "\n",
      "((((any[cos(func[(((cos(x_7)/(x_0+-1.317368269))-((-24.031814575+x_3)+(x_3+x_7)))+sin(((-8.684989929*x_7)/(x_7/x_6))))\n",
      "\n",
      "((sin((-3.531510115-x_6))+(func[(((func[sin((sqrt((7.355690956-x_3))*x_7))\n",
      "\n",
      "(((func[((((65.608375549-x_4)*sin(-0.173476800))-(sin(x_6)*(-4.226649284-x_3)))+cos(((x_9*-2.886904240)+cos(x_9))))\n",
      "\n",
      "sin((cos(sin(x_7))*-5.585355759))\n",
      "\n",
      "(((func[((sin((x_7*-8.060747147))*(func[(sin((sqrt(x_6)+(x_6*x_10)))*(((x_1-x_10)/cos(0.466997832))-sin((x_7-2.576249599))))\n",
      "\n",
      "((func[((sin((0.409131020*x_0))+((x_9*x_9)*(-0.744680047+-0.007915982)))*(func[(sin((x_7*(x_7--2.194319725)))*cos(((x_7+-1.312465906)+(0.348274887*x_8))))\n",
      "\n"
     ]
    }
   ],
   "source": [
    "dataset = \"bike\"\n",
    "\n",
    "def extract_substrings(text):\n",
    "    return re.findall(r'func\\[(.*?)\\]', text)\n",
    "\n",
    "functions = []\n",
    "for filename in glob.glob(\"./results/cmp/*_MO_*k2*_bike.csv\"):\n",
    "    nr = filename.split(\"/\")[-1].split(\"_\")[0]\n",
    "    d_key = \"_\".join(filename.split(\"/\")[-1].split(\"_\")[1:]).replace(dataset,\"\").replace(\".csv\",\"\")\n",
    "    df = pd.read_csv(filename, sep=\"\\t\", header=None)\n",
    "    \n",
    "    \n",
    "    substrings = extract_substrings(df.iloc[0][5])\n",
    "    if (count_duplicates_in_list(substrings)>0):\n",
    "        print(substrings[0])\n",
    "        print(\"\")\n",
    "        functions.append(replace_translation(substrings[0], translation, True))\n",
    "        \n",
    "    "
   ]
  },
  {
   "cell_type": "code",
   "execution_count": 38,
   "id": "b4f25f0c",
   "metadata": {},
   "outputs": [],
   "source": [
    "instance = {\"Season\":1,\n",
    "\"Year\":0,\n",
    "\"Month\":1,\n",
    "\"Holiday\":0,\n",
    "\"Weekday\":6,\n",
    "\"Working day\":0,\n",
    "\"Weather Situation\":2,\n",
    "\"Temperature\":\"x\",\n",
    "\"Feeling Temperature\":0.36,\n",
    "\"Humidity\": 0.8,\n",
    "\"Windspeed\":0.16}\n",
    "\n",
    "functional = {\n",
    "    \"sin\":\"np.sin\",\n",
    "    \"sqrt\":\"np.sqrt\",\n",
    "    \"cos\":\"np.cos\",\n",
    "    \"ln\":\"np.log\",\n",
    "    \"func[(\": \"\",\n",
    "    \")]\": \"\"\n",
    "}"
   ]
  },
  {
   "cell_type": "code",
   "execution_count": 39,
   "id": "d944af0b",
   "metadata": {},
   "outputs": [
    {
     "name": "stdout",
     "output_type": "stream",
     "text": [
      "((func[((((Year*0.801548302)-(Weather Situation/7.475599289))-cos((-4.854018211*Temperature)))+(sin((Humidity-4.666962624))+sin(sin(Weather Situation))))\n",
      "((((0*0.801548302)-(2/7.475599289))-np.cos((-4.854018211*x)))+(np.sin((0.8-4.666962624))+np.sin(np.sin(2))))\n"
     ]
    }
   ],
   "source": [
    "print(functions[2])\n",
    "function = replace_translation(functions[2], instance, False)\n",
    "function = replace_translation(function, functional, False)[1:]\n",
    "print(function)"
   ]
  },
  {
   "cell_type": "code",
   "execution_count": 45,
   "id": "5b40da90",
   "metadata": {},
   "outputs": [
    {
     "data": {
      "image/png": "[encoded data removed]",
      "text/plain": [
       "<Figure size 800x550 with 1 Axes>"
      ]
     },
     "metadata": {},
     "output_type": "display_data"
    }
   ],
   "source": [
    "func = lambda x: eval(function)\n",
    "x = np.linspace(0,1,100)\n",
    "y = func(x)\n",
    "plt.figure()\n",
    "plt.xlabel(\"Temperature (Celsius)\")\n",
    "xtick_locations = [0.,0.2,0.4,0.6,0.8,1.0]\n",
    "conversion = lambda z: z * 47 - 8\n",
    "xtick_labels = [\"{:.1f}\".format(conversion(z)) for z in xtick_locations]\n",
    "plt.xticks(xtick_locations, xtick_labels)\n",
    "plt.ylabel(\"Function value\")\n",
    "plt.plot(x,y)\n",
    "plt.show()"
   ]
  },
  {
   "cell_type": "code",
   "execution_count": null,
   "id": "c4d6f2a6",
   "metadata": {},
   "outputs": [],
   "source": []
  }
 ],
 "metadata": {
  "kernelspec": {
   "display_name": "Python 3 (ipykernel)",
   "language": "python",
   "name": "python3"
  },
  "language_info": {
   "codemirror_mode": {
    "name": "ipython",
    "version": 3
   },
   "file_extension": ".py",
   "mimetype": "text/x-python",
   "name": "python",
   "nbconvert_exporter": "python",
   "pygments_lexer": "ipython3",
   "version": "3.9.16"
  }
 },
 "nbformat": 4,
 "nbformat_minor": 5
}
